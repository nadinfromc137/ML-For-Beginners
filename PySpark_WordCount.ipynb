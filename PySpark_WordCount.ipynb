{
  "cells": [
    {
      "cell_type": "markdown",
      "metadata": {
        "id": "view-in-github",
        "colab_type": "text"
      },
      "source": [
        "<a href=\"https://colab.research.google.com/github/nadinfromc137/ML-For-Beginners/blob/main/PySpark_WordCount.ipynb\" target=\"_parent\"><img src=\"https://colab.research.google.com/assets/colab-badge.svg\" alt=\"Open In Colab\"/></a>"
      ]
    },
    {
      "cell_type": "markdown",
      "source": [
        "\n",
        "\n",
        "# **Lab 4: Working with Spark**\n",
        "\n"
      ],
      "metadata": {
        "id": "19n7TC4WVw_3"
      }
    },
    {
      "cell_type": "markdown",
      "metadata": {
        "id": "TLue8E6mOc4z"
      },
      "source": [
        "### In order for Python to find the Spark, download the findspark library and start it with findspark.init() function."
      ]
    },
    {
      "cell_type": "code",
      "execution_count": 58,
      "metadata": {
        "id": "m_RXqSjFOc45"
      },
      "outputs": [],
      "source": [
        "# Uncomment the following to work on Colab\n",
        "# Source: https://www.analyticsvidhya.com/blog/2020/11/a-must-read-guide-on-how-to-work-with-pyspark-on-google-colab-for-data-scientists/\n",
        "#!pip install pyspark\n",
        "#import findspark\n",
        "#!pip install findspark\n",
        "#!apt-get install openjdk-8-jdk-headless -qq > /dev/null\n",
        "#!wget -q https://dlcdn.apache.org/spark/spark-3.3.2/spark-3.3.2-bin-hadoop3.tgz\n",
        "#!tar xf spark-3.3.2-bin-hadoop3.tgz\n",
        "#!pip install -q findspark\n"
      ]
    },
    {
      "cell_type": "code",
      "source": [
        "import os\n",
        "os.environ[\"JAVA_HOME\"] = \"/usr/lib/jvm/java-8-openjdk-amd64\"\n",
        "os.environ[\"SPARK_HOME\"] = \"/content/spark-3.3.2-bin-hadoop3\""
      ],
      "metadata": {
        "id": "nb1Tj3j8TU-9"
      },
      "execution_count": 25,
      "outputs": []
    },
    {
      "cell_type": "code",
      "source": [
        "import findspark\n",
        "findspark.init()"
      ],
      "metadata": {
        "id": "6lzCCT11TcgF"
      },
      "execution_count": 26,
      "outputs": []
    },
    {
      "cell_type": "code",
      "source": [
        "findspark.find()"
      ],
      "metadata": {
        "colab": {
          "base_uri": "https://localhost:8080/",
          "height": 35
        },
        "id": "6CdAn_qDTddf",
        "outputId": "72799fbe-de53-4a4d-e41a-8e4f5a3d5cf6"
      },
      "execution_count": 27,
      "outputs": [
        {
          "output_type": "execute_result",
          "data": {
            "text/plain": [
              "'/content/spark-3.3.2-bin-hadoop3'"
            ],
            "application/vnd.google.colaboratory.intrinsic+json": {
              "type": "string"
            }
          },
          "metadata": {},
          "execution_count": 27
        }
      ]
    },
    {
      "cell_type": "markdown",
      "metadata": {
        "id": "XNTcbwyyOc5A"
      },
      "source": [
        "### In order to work with RDDs, we need to create a SparkContext."
      ]
    },
    {
      "cell_type": "code",
      "execution_count": 28,
      "metadata": {
        "id": "I45ksuBSOc5C"
      },
      "outputs": [],
      "source": [
        "from pyspark.sql import SparkSession\n",
        "from pyspark.conf import SparkConf"
      ]
    },
    {
      "cell_type": "markdown",
      "metadata": {
        "id": "TDo_HsNZOc5E"
      },
      "source": [
        "\n",
        "## Since we write local [*] in the master, it will use all cores in our machine. If we said local [4] it will work with 4 cores.\n",
        "\n",
        "## getOrCreate is used to create a SparkSession if not present."
      ]
    },
    {
      "cell_type": "markdown",
      "source": [
        "### When working on colab:"
      ],
      "metadata": {
        "id": "zf91G02oReJj"
      }
    },
    {
      "cell_type": "code",
      "execution_count": 29,
      "metadata": {
        "id": "sGrX_HunOc5G"
      },
      "outputs": [],
      "source": [
        "spark=SparkSession.builder\\\n",
        "    .master(\"local\")\\\n",
        "    .appName(\"Colab\")\\\n",
        "    .config('spark.ui.port', '4050')\\\n",
        "    .getOrCreate()"
      ]
    },
    {
      "cell_type": "code",
      "execution_count": 30,
      "metadata": {
        "id": "mWo0AMmgOc5H"
      },
      "outputs": [],
      "source": [
        "sc=spark.sparkContext"
      ]
    },
    {
      "cell_type": "markdown",
      "metadata": {
        "id": "DSVDZBqaOc5J"
      },
      "source": [
        "## Read Data - RomeoJuliet Txt File"
      ]
    },
    {
      "cell_type": "code",
      "source": [
        "os.getcwd() "
      ],
      "metadata": {
        "colab": {
          "base_uri": "https://localhost:8080/",
          "height": 35
        },
        "id": "lgvRNnpJUaUk",
        "outputId": "d023b073-ea4e-41ab-f8b6-6d6aec7aad9f"
      },
      "execution_count": 31,
      "outputs": [
        {
          "output_type": "execute_result",
          "data": {
            "text/plain": [
              "'/content'"
            ],
            "application/vnd.google.colaboratory.intrinsic+json": {
              "type": "string"
            }
          },
          "metadata": {},
          "execution_count": 31
        }
      ]
    },
    {
      "cell_type": "code",
      "execution_count": 32,
      "metadata": {
        "id": "nlcsShj9Oc5L"
      },
      "outputs": [],
      "source": [
        "#veri_dosyasi=\"C:/Users/v-ayoussry/Downloads/Pyspark-WordCount-master/romeojuliet.txt\"\n",
        "veri_dosyasi=\"romeojuliet.txt\""
      ]
    },
    {
      "cell_type": "code",
      "execution_count": 33,
      "metadata": {
        "id": "GURUtpuBOc5L"
      },
      "outputs": [],
      "source": [
        "shakespeare_rdd=sc.textFile(veri_dosyasi)"
      ]
    },
    {
      "cell_type": "code",
      "execution_count": 34,
      "metadata": {
        "colab": {
          "base_uri": "https://localhost:8080/"
        },
        "id": "yfPqvl_xOc5M",
        "outputId": "eb74a5a0-affb-41df-8cbb-8a8bad4d0c3b"
      },
      "outputs": [
        {
          "output_type": "execute_result",
          "data": {
            "text/plain": [
              "['',\n",
              " \"                    WILLIAM SHAKESPEARE'S\",\n",
              " '',\n",
              " '                       ROMEO & JULIET',\n",
              " '',\n",
              " '   ADAPTED FOR THE SCREEN BY CRAIG PEARCE AND BAZ LUHRMANN',\n",
              " '',\n",
              " '',\n",
              " '',\n",
              " '',\n",
              " '',\n",
              " '',\n",
              " '',\n",
              " '',\n",
              " '',\n",
              " '',\n",
              " '',\n",
              " '',\n",
              " '',\n",
              " '',\n",
              " '',\n",
              " '',\n",
              " '',\n",
              " '',\n",
              " '',\n",
              " '',\n",
              " '',\n",
              " '',\n",
              " '',\n",
              " '',\n",
              " '',\n",
              " '',\n",
              " '                                       FINAL SHOOTING SCRIPT',\n",
              " '',\n",
              " '                                             October 6, 1995',\n",
              " '',\n",
              " '',\n",
              " '',\n",
              " '',\n",
              " 'EXT.  HIGHWAY.  AFTERNOON.',\n",
              " '',\n",
              " 'A ribbon of freeway stretching into a blue and pink late',\n",
              " 'afternoon sky. A huge dark sedan, windows tinted gold,',\n",
              " 'headlights blazing, powers directly for us.',\n",
              " '',\n",
              " 'CUT TO: A heavy, low-slung, pickup truck traveling toward',\n",
              " 'the sedan.',\n",
              " '',\n",
              " 'WIDE SHOT: Sky, freeway, the cars closing.',\n",
              " '',\n",
              " 'TIGHT ON: The sedan.',\n",
              " '',\n",
              " 'TIGHT ON: The pickup.',\n",
              " '',\n",
              " 'Like thunderous, jousting opponents, the cars pass in a',\n",
              " 'deafening cacophony of noise.',\n",
              " '',\n",
              " 'INT.  TRUCK.  AFTERNOON.',\n",
              " '',\n",
              " 'TIGHT ON: The fat face of GREGORY, yelling at the',\n",
              " 'disappearing sedan.',\n",
              " '',\n",
              " '                         GREGORY',\n",
              " '            A dog of the house of Capulet moves',\n",
              " '            me!',\n",
              " '',\n",
              " 'He and the pimply-faced front-seat passenger, SAMPSON,',\n",
              " 'explode with laughter.',\n",
              " '',\n",
              " 'The red-haired driver BENVOLIO, keeps his eyes on the road.',\n",
              " '',\n",
              " 'EXT.  EXIT RAMP.  AFTERNOON.',\n",
              " '',\n",
              " 'The truck spirals down an exit ramp and screeches into busy',\n",
              " 'driveway of a large gas station.',\n",
              " '',\n",
              " 'EXT.  GAS STATION.  AFTERNOON.',\n",
              " '',\n",
              " 'Attendants immediately run to the truck.  Two clean',\n",
              " 'windshields and duco, the third fills the gas tank.',\n",
              " '',\n",
              " 'INT.  TRUCK.  AFTERNOON.',\n",
              " '',\n",
              " 'Gregory in the back seat is boasting outrageously.',\n",
              " '',\n",
              " '                         GREGORY',\n",
              " '            A dog of that house shall move me',\n",
              " '            to stand.  I will take the wall of',\n",
              " '            any man or maid of Capulets.',\n",
              " '',\n",
              " 'Sampson, sarcastically.',\n",
              " '',\n",
              " '                         SAMPSON',\n",
              " '            That shows thee a weak slave.  For',\n",
              " '            the weakest goes to the wall.',\n",
              " '',\n",
              " '                         GREGORY',\n",
              " \"            'Tis true; and therefore women,\",\n",
              " '            being the weaker vessels, are ever',\n",
              " '            thrust to the wall.  Therefore, I']"
            ]
          },
          "metadata": {},
          "execution_count": 34
        }
      ],
      "source": [
        "shakespeare_rdd.take(100)"
      ]
    },
    {
      "cell_type": "code",
      "execution_count": 35,
      "metadata": {
        "colab": {
          "base_uri": "https://localhost:8080/"
        },
        "id": "BunqdbVjOc5O",
        "outputId": "aa613ed9-a843-4bbb-a6c1-e74b15de6504"
      },
      "outputs": [
        {
          "output_type": "execute_result",
          "data": {
            "text/plain": [
              "6247"
            ]
          },
          "metadata": {},
          "execution_count": 35
        }
      ],
      "source": [
        "shakespeare_rdd.count()"
      ]
    },
    {
      "cell_type": "markdown",
      "metadata": {
        "id": "Nmb-25PQOc5P"
      },
      "source": [
        "# Remove Punctuation and Transform All Words to Lowercase.\n",
        "\n",
        "### To exclude punctuation values and convert all words to lowercase, we wrote a function like the one below."
      ]
    },
    {
      "cell_type": "code",
      "execution_count": 36,
      "metadata": {
        "id": "mSi8s79mOc5Q"
      },
      "outputs": [],
      "source": [
        "def lower_clean_str(x):\n",
        "  punc='!\"#$%&\\'()*+,./:;<=>?@[\\\\]^_`{|}~-'\n",
        "  lowercased_str = x.lower()\n",
        "  for ch in punc:\n",
        "    lowercased_str = lowercased_str.replace(ch, '')\n",
        "  return lowercased_str"
      ]
    },
    {
      "cell_type": "code",
      "execution_count": 37,
      "metadata": {
        "id": "L_eJdSJIOc5Q"
      },
      "outputs": [],
      "source": [
        "shakespeare_rdd = shakespeare_rdd.map(lower_clean_str)"
      ]
    },
    {
      "cell_type": "code",
      "execution_count": 38,
      "metadata": {
        "colab": {
          "base_uri": "https://localhost:8080/"
        },
        "id": "VzALvTwfOc5S",
        "outputId": "f7603f92-cc12-4000-92b6-486a8269c469"
      },
      "outputs": [
        {
          "output_type": "execute_result",
          "data": {
            "text/plain": [
              "['',\n",
              " '                    william shakespeares',\n",
              " '',\n",
              " '                       romeo  juliet',\n",
              " '',\n",
              " '   adapted for the screen by craig pearce and baz luhrmann',\n",
              " '',\n",
              " '',\n",
              " '',\n",
              " '',\n",
              " '',\n",
              " '',\n",
              " '',\n",
              " '',\n",
              " '',\n",
              " '',\n",
              " '',\n",
              " '',\n",
              " '',\n",
              " '',\n",
              " '',\n",
              " '',\n",
              " '',\n",
              " '',\n",
              " '',\n",
              " '',\n",
              " '',\n",
              " '',\n",
              " '',\n",
              " '',\n",
              " '',\n",
              " '',\n",
              " '                                       final shooting script',\n",
              " '',\n",
              " '                                             october 6 1995',\n",
              " '',\n",
              " '',\n",
              " '',\n",
              " '',\n",
              " 'ext  highway  afternoon']"
            ]
          },
          "metadata": {},
          "execution_count": 38
        }
      ],
      "source": [
        "shakespeare_rdd.take(40)"
      ]
    },
    {
      "cell_type": "markdown",
      "metadata": {
        "id": "0QpVW74xOc5T"
      },
      "source": [
        "## We use split function to separate the words in all lines ."
      ]
    },
    {
      "cell_type": "code",
      "execution_count": 39,
      "metadata": {
        "id": "dZVaNs3COc5T"
      },
      "outputs": [],
      "source": [
        "shakespeare_rdd=shakespeare_rdd.flatMap(lambda satir: satir.split(\" \"))"
      ]
    },
    {
      "cell_type": "code",
      "execution_count": 40,
      "metadata": {
        "colab": {
          "base_uri": "https://localhost:8080/"
        },
        "id": "PZyGJKNLOc5U",
        "outputId": "7abab8c7-df3c-418f-cc12-eb01792325b3"
      },
      "outputs": [
        {
          "output_type": "execute_result",
          "data": {
            "text/plain": [
              "['', '', '', '', '']"
            ]
          },
          "metadata": {},
          "execution_count": 40
        }
      ],
      "source": [
        "shakespeare_rdd.take(5)"
      ]
    },
    {
      "cell_type": "markdown",
      "metadata": {
        "id": "nBhleL7LOc5V"
      },
      "source": [
        "## We do a filtering below to exclude whitespaces."
      ]
    },
    {
      "cell_type": "code",
      "execution_count": 41,
      "metadata": {
        "id": "Fe_c4HkmOc5W"
      },
      "outputs": [],
      "source": [
        "shakespeare_rdd = shakespeare_rdd.filter(lambda x:x!='')"
      ]
    },
    {
      "cell_type": "code",
      "execution_count": 42,
      "metadata": {
        "colab": {
          "base_uri": "https://localhost:8080/"
        },
        "id": "hBN3IG0cOc5X",
        "outputId": "bce5cbe4-2521-4457-d80d-d1c96bf77b2d"
      },
      "outputs": [
        {
          "output_type": "execute_result",
          "data": {
            "text/plain": [
              "['william', 'shakespeares', 'romeo', 'juliet']"
            ]
          },
          "metadata": {},
          "execution_count": 42
        }
      ],
      "source": [
        "shakespeare_rdd.take(4)"
      ]
    },
    {
      "cell_type": "markdown",
      "metadata": {
        "id": "xOeyN4QmOc5Y"
      },
      "source": [
        "## Count how many times each word occurs.\n",
        "### To make this calculation we can apply the “reduceByKey” transformation on (key,val) pair RDD. We need to first convert “shakespeare_rdd” to (key,val) pair RDD.\n",
        "\n",
        "### In this new (key,val) pair RDD (shakespeare_count), key is the word and val is 1 for each word in RDD (1 represents the number for the each word in “shakespeare_rdd”).\n"
      ]
    },
    {
      "cell_type": "code",
      "execution_count": 43,
      "metadata": {
        "id": "4wVn3-w7Oc5Z"
      },
      "outputs": [],
      "source": [
        "shakespeare_count=shakespeare_rdd.map(lambda  word:(word,1))"
      ]
    },
    {
      "cell_type": "code",
      "execution_count": 44,
      "metadata": {
        "colab": {
          "base_uri": "https://localhost:8080/"
        },
        "id": "ptLMX_n7Oc5a",
        "outputId": "514580be-4705-4f43-b5fd-ca9c1d185813"
      },
      "outputs": [
        {
          "output_type": "execute_result",
          "data": {
            "text/plain": [
              "[('william', 1), ('shakespeares', 1), ('romeo', 1), ('juliet', 1)]"
            ]
          },
          "metadata": {},
          "execution_count": 44
        }
      ],
      "source": [
        "shakespeare_count.take(4)"
      ]
    },
    {
      "cell_type": "markdown",
      "metadata": {
        "id": "dlGBbriHOc5b"
      },
      "source": [
        "## Apply ReduceByKey to find frequent words"
      ]
    },
    {
      "cell_type": "code",
      "execution_count": 45,
      "metadata": {
        "id": "OXGU2SY1Oc5c"
      },
      "outputs": [],
      "source": [
        "shakespeare_count_RBK=shakespeare_count.reduceByKey(lambda x,y:(x+y)).sortByKey()"
      ]
    },
    {
      "cell_type": "code",
      "execution_count": 46,
      "metadata": {
        "colab": {
          "base_uri": "https://localhost:8080/"
        },
        "id": "np2rNnMIOc5d",
        "outputId": "d680f286-11bb-472f-ca49-25e0f6175437"
      },
      "outputs": [
        {
          "output_type": "execute_result",
          "data": {
            "text/plain": [
              "[('1995', 1),\n",
              " ('21', 1),\n",
              " ('6', 1),\n",
              " ('60', 2),\n",
              " ('9mm', 2),\n",
              " ('a', 563),\n",
              " ('abandoned', 1),\n",
              " ('able', 1),\n",
              " ('about', 3),\n",
              " ('above', 12),\n",
              " ('abra', 24),\n",
              " ('abras', 3),\n",
              " ('abroad', 1),\n",
              " ('abrupt', 1),\n",
              " ('abruptly', 5),\n",
              " ('absolved', 1),\n",
              " ('abuse', 2),\n",
              " ('abuses', 1),\n",
              " ('accidentally', 1),\n",
              " ('accompanied', 1),\n",
              " ('according', 1),\n",
              " ('accusation', 1),\n",
              " ('accustomed', 2),\n",
              " ('ache', 1),\n",
              " ('aches', 1),\n",
              " ('achingly', 2),\n",
              " ('acoustic', 1),\n",
              " ('across', 24),\n",
              " ('actually', 1),\n",
              " ('adagio', 1),\n",
              " ('adapted', 1),\n",
              " ('address', 1),\n",
              " ('addressed', 1),\n",
              " ('addresses', 1),\n",
              " ('adept', 1),\n",
              " ('adieu', 4),\n",
              " ('adjacent', 1),\n",
              " ('adjoining', 1),\n",
              " ('adjust', 1),\n",
              " ('admired', 1)]"
            ]
          },
          "metadata": {},
          "execution_count": 46
        }
      ],
      "source": [
        "shakespeare_count_RBK.take(40)"
      ]
    },
    {
      "cell_type": "markdown",
      "metadata": {
        "id": "OfpRjv_oOc5e"
      },
      "source": [
        "### We want to sort the most frequent words in descending order. As the first step, we switch (key,val) pairs as (val,key)."
      ]
    },
    {
      "cell_type": "code",
      "execution_count": 47,
      "metadata": {
        "id": "wx1IYWBQOc5e"
      },
      "outputs": [],
      "source": [
        "shakespeare_count_RBK=shakespeare_count_RBK.map(lambda x:(x[1],x[0]))"
      ]
    },
    {
      "cell_type": "code",
      "execution_count": 48,
      "metadata": {
        "colab": {
          "base_uri": "https://localhost:8080/"
        },
        "id": "DV9SJUojOc5f",
        "outputId": "c7db8a88-ac9b-48eb-be7a-8a0a2fcaac23"
      },
      "outputs": [
        {
          "output_type": "execute_result",
          "data": {
            "text/plain": [
              "[(1, '1995'), (1, '21'), (1, '6'), (2, '60'), (2, '9mm')]"
            ]
          },
          "metadata": {},
          "execution_count": 48
        }
      ],
      "source": [
        "shakespeare_count_RBK.take(5)"
      ]
    },
    {
      "cell_type": "markdown",
      "metadata": {
        "id": "KzmGfNOFOc5g"
      },
      "source": [
        "## We see that the most common word is \"the\". However, these values are words that we call stopwords which brings value to our analysis."
      ]
    },
    {
      "cell_type": "code",
      "execution_count": 49,
      "metadata": {
        "colab": {
          "base_uri": "https://localhost:8080/"
        },
        "id": "BEfVfnpKOc5i",
        "outputId": "6b0486d7-db56-49f4-9358-96a8b3f33c85"
      },
      "outputs": [
        {
          "output_type": "execute_result",
          "data": {
            "text/plain": [
              "[(1372, 'the'),\n",
              " (563, 'a'),\n",
              " (506, 'to'),\n",
              " (469, 'of'),\n",
              " (464, 'romeo'),\n",
              " (461, 'and'),\n",
              " (258, 'in'),\n",
              " (251, 'juliet'),\n",
              " (246, 'is'),\n",
              " (224, 'i')]"
            ]
          },
          "metadata": {},
          "execution_count": 49
        }
      ],
      "source": [
        "shakespeare_count_RBK.sortByKey(False).take(10)"
      ]
    },
    {
      "cell_type": "markdown",
      "metadata": {
        "id": "10ihOxF3Oc5j"
      },
      "source": [
        "## To exclude stopwords words, we download the nltk library and get the list of English stopwords."
      ]
    },
    {
      "cell_type": "code",
      "execution_count": 50,
      "metadata": {
        "id": "kuraeqeDOc5j"
      },
      "outputs": [],
      "source": [
        "import nltk"
      ]
    },
    {
      "cell_type": "code",
      "execution_count": 51,
      "metadata": {
        "colab": {
          "base_uri": "https://localhost:8080/"
        },
        "id": "76Fu3bT7Oc5j",
        "outputId": "60dadece-7023-4374-fc79-87a6bfa5b5d2"
      },
      "outputs": [
        {
          "output_type": "stream",
          "name": "stderr",
          "text": [
            "[nltk_data] Downloading package stopwords to /root/nltk_data...\n",
            "[nltk_data]   Unzipping corpora/stopwords.zip.\n"
          ]
        },
        {
          "output_type": "execute_result",
          "data": {
            "text/plain": [
              "True"
            ]
          },
          "metadata": {},
          "execution_count": 51
        }
      ],
      "source": [
        "nltk.download('stopwords')"
      ]
    },
    {
      "cell_type": "code",
      "execution_count": 52,
      "metadata": {
        "colab": {
          "base_uri": "https://localhost:8080/"
        },
        "id": "bljr33gzOc5l",
        "outputId": "f0e1fe9a-b89f-4a08-f06c-85e94fd8fef7"
      },
      "outputs": [
        {
          "output_type": "execute_result",
          "data": {
            "text/plain": [
              "['i',\n",
              " 'me',\n",
              " 'my',\n",
              " 'myself',\n",
              " 'we',\n",
              " 'our',\n",
              " 'ours',\n",
              " 'ourselves',\n",
              " 'you',\n",
              " \"you're\",\n",
              " \"you've\",\n",
              " \"you'll\",\n",
              " \"you'd\",\n",
              " 'your',\n",
              " 'yours',\n",
              " 'yourself',\n",
              " 'yourselves',\n",
              " 'he',\n",
              " 'him',\n",
              " 'his',\n",
              " 'himself',\n",
              " 'she',\n",
              " \"she's\",\n",
              " 'her',\n",
              " 'hers',\n",
              " 'herself',\n",
              " 'it',\n",
              " \"it's\",\n",
              " 'its',\n",
              " 'itself',\n",
              " 'they',\n",
              " 'them',\n",
              " 'their',\n",
              " 'theirs',\n",
              " 'themselves',\n",
              " 'what',\n",
              " 'which',\n",
              " 'who',\n",
              " 'whom',\n",
              " 'this',\n",
              " 'that',\n",
              " \"that'll\",\n",
              " 'these',\n",
              " 'those',\n",
              " 'am',\n",
              " 'is',\n",
              " 'are',\n",
              " 'was',\n",
              " 'were',\n",
              " 'be',\n",
              " 'been',\n",
              " 'being',\n",
              " 'have',\n",
              " 'has',\n",
              " 'had',\n",
              " 'having',\n",
              " 'do',\n",
              " 'does',\n",
              " 'did',\n",
              " 'doing',\n",
              " 'a',\n",
              " 'an',\n",
              " 'the',\n",
              " 'and',\n",
              " 'but',\n",
              " 'if',\n",
              " 'or',\n",
              " 'because',\n",
              " 'as',\n",
              " 'until',\n",
              " 'while',\n",
              " 'of',\n",
              " 'at',\n",
              " 'by',\n",
              " 'for',\n",
              " 'with',\n",
              " 'about',\n",
              " 'against',\n",
              " 'between',\n",
              " 'into',\n",
              " 'through',\n",
              " 'during',\n",
              " 'before',\n",
              " 'after',\n",
              " 'above',\n",
              " 'below',\n",
              " 'to',\n",
              " 'from',\n",
              " 'up',\n",
              " 'down',\n",
              " 'in',\n",
              " 'out',\n",
              " 'on',\n",
              " 'off',\n",
              " 'over',\n",
              " 'under',\n",
              " 'again',\n",
              " 'further',\n",
              " 'then',\n",
              " 'once',\n",
              " 'here',\n",
              " 'there',\n",
              " 'when',\n",
              " 'where',\n",
              " 'why',\n",
              " 'how',\n",
              " 'all',\n",
              " 'any',\n",
              " 'both',\n",
              " 'each',\n",
              " 'few',\n",
              " 'more',\n",
              " 'most',\n",
              " 'other',\n",
              " 'some',\n",
              " 'such',\n",
              " 'no',\n",
              " 'nor',\n",
              " 'not',\n",
              " 'only',\n",
              " 'own',\n",
              " 'same',\n",
              " 'so',\n",
              " 'than',\n",
              " 'too',\n",
              " 'very',\n",
              " 's',\n",
              " 't',\n",
              " 'can',\n",
              " 'will',\n",
              " 'just',\n",
              " 'don',\n",
              " \"don't\",\n",
              " 'should',\n",
              " \"should've\",\n",
              " 'now',\n",
              " 'd',\n",
              " 'll',\n",
              " 'm',\n",
              " 'o',\n",
              " 're',\n",
              " 've',\n",
              " 'y',\n",
              " 'ain',\n",
              " 'aren',\n",
              " \"aren't\",\n",
              " 'couldn',\n",
              " \"couldn't\",\n",
              " 'didn',\n",
              " \"didn't\",\n",
              " 'doesn',\n",
              " \"doesn't\",\n",
              " 'hadn',\n",
              " \"hadn't\",\n",
              " 'hasn',\n",
              " \"hasn't\",\n",
              " 'haven',\n",
              " \"haven't\",\n",
              " 'isn',\n",
              " \"isn't\",\n",
              " 'ma',\n",
              " 'mightn',\n",
              " \"mightn't\",\n",
              " 'mustn',\n",
              " \"mustn't\",\n",
              " 'needn',\n",
              " \"needn't\",\n",
              " 'shan',\n",
              " \"shan't\",\n",
              " 'shouldn',\n",
              " \"shouldn't\",\n",
              " 'wasn',\n",
              " \"wasn't\",\n",
              " 'weren',\n",
              " \"weren't\",\n",
              " 'won',\n",
              " \"won't\",\n",
              " 'wouldn',\n",
              " \"wouldn't\"]"
            ]
          },
          "metadata": {},
          "execution_count": 52
        }
      ],
      "source": [
        "from nltk.corpus import stopwords\n",
        "stopwords =stopwords.words('english')\n",
        "stopwords"
      ]
    },
    {
      "cell_type": "markdown",
      "metadata": {
        "id": "ZHuN9z6kOc5m"
      },
      "source": [
        "## When we exclude stopwords values, we see that the word \"romeo\" is the most common."
      ]
    },
    {
      "cell_type": "code",
      "execution_count": 53,
      "metadata": {
        "id": "LFiK_xEyOc5m"
      },
      "outputs": [],
      "source": [
        "shakespeare_count_RBK = shakespeare_count_RBK.filter(lambda x: x[1] not in stopwords).sortByKey(False)"
      ]
    },
    {
      "cell_type": "code",
      "execution_count": 54,
      "metadata": {
        "colab": {
          "base_uri": "https://localhost:8080/"
        },
        "id": "9DzC2vyBOc5m",
        "outputId": "813cf64a-465e-4fca-9cf7-49b033bdb434"
      },
      "outputs": [
        {
          "output_type": "execute_result",
          "data": {
            "text/plain": [
              "[(464, 'romeo'),\n",
              " (251, 'juliet'),\n",
              " (143, 'mercutio'),\n",
              " (133, 'capulet'),\n",
              " (114, 'thou'),\n",
              " (111, 'benvolio'),\n",
              " (111, 'night'),\n",
              " (98, 'father'),\n",
              " (97, 'ext'),\n",
              " (96, 'close'),\n",
              " (96, 'nurse'),\n",
              " (92, 'cont'),\n",
              " (88, 'int'),\n",
              " (87, 'cut'),\n",
              " (84, 'car'),\n",
              " (82, 'love'),\n",
              " (81, 'laurence'),\n",
              " (79, 'tybalt'),\n",
              " (71, 'gloria'),\n",
              " (66, 'day')]"
            ]
          },
          "metadata": {},
          "execution_count": 54
        }
      ],
      "source": [
        "shakespeare_count_RBK.sortByKey(False).take(20)"
      ]
    }
  ],
  "metadata": {
    "kernelspec": {
      "display_name": "Python 3 (ipykernel)",
      "language": "python",
      "name": "python3"
    },
    "language_info": {
      "codemirror_mode": {
        "name": "ipython",
        "version": 3
      },
      "file_extension": ".py",
      "mimetype": "text/x-python",
      "name": "python",
      "nbconvert_exporter": "python",
      "pygments_lexer": "ipython3",
      "version": "3.8.12"
    },
    "colab": {
      "provenance": [],
      "include_colab_link": true
    }
  },
  "nbformat": 4,
  "nbformat_minor": 0
}